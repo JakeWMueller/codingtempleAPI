{
 "cells": [
  {
   "cell_type": "markdown",
   "metadata": {},
   "source": [
    "Simply put, your main objective for this coding challenge is to send an API request to a server, get the data, then build a solution after getting the data."
   ]
  },
  {
   "cell_type": "markdown",
   "metadata": {},
   "source": [
    "Here's the server address: https://ct-mock-tech-assessment.herokuapp.com/<br>"
   ]
  },
  {
   "cell_type": "markdown",
   "metadata": {},
   "source": [
    "The data is a collection of partners who need to attend meetings within their respective countries. For each partner you will find first and last names, email addresses, country locations and dates of availability."
   ]
  },
  {
   "cell_type": "markdown",
   "metadata": {},
   "source": [
    "Your job is to  build an invitation list based on the data. An example solution would look like the following. Keep in mind this is an example and not the real solution."
   ]
  },
  {
   "cell_type": "markdown",
   "metadata": {},
   "source": [
    "<strong>THE FOLLOWING IS `ONLY` AN EXAMPLE.</strong>"
   ]
  },
  {
   "cell_type": "code",
   "execution_count": 1,
   "metadata": {},
   "outputs": [],
   "source": [
    "# [   {   'attendeeCount': 12,\n",
    "#         'attendees': [   'rketring@codingtemple.com',\n",
    "#                          'mlacau@codingtemple.com',\n",
    "#                          'eomersa@codingtemple.com',\n",
    "#                          'ssheahan@codingtemple.com',\n",
    "#                          'msoult@codingtemple.com',\n",
    "#                          'bwatton@codingtemple.com',\n",
    "#                          'afernadez@codingtemple.com',\n",
    "#                          'mmottern@codingtemple.com',\n",
    "#                          'pdougherty@codingtemple.com',\n",
    "#                          'sbeemon@codingtemple.com',\n",
    "#                          'mvirgel@codingtemple.com',\n",
    "#                          'hpolitte@codingtemple.com'],\n",
    "#         'name': 'United States',\n",
    "#         'startDate': '2017-06-01'},\n",
    "#     {   'attendeeCount': 12,\n",
    "#         'attendees': [   'sterrence@codingtemple.com',\n",
    "#                          'dpatnode@codingtemple.com',\n",
    "#                          'pbertog@codingtemple.com',\n",
    "#                          'rguldemond@codingtemple.com',\n",
    "#                          'rfarlee@codingtemple.com',\n",
    "#                          'mclawson@codingtemple.com',\n",
    "#                          'mbottenfield@codingtemple.com',\n",
    "#                          'akulju@codingtemple.com',\n",
    "#                          'cscoby@codingtemple.com',\n",
    "#                          'dsiebenthal@codingtemple.com',\n",
    "#                          'mcrossen@codingtemple.com',\n",
    "#                          'mkimble@codingtemple.com'],\n",
    "#         'name': 'Ireland',\n",
    "#         'startDate': '2017-06-04'},\n",
    "#     {   'attendeeCount': 14,\n",
    "#         'attendees': [   'oduttinger@codingtemple.com',\n",
    "#                          'tzavesky@codingtemple.com',\n",
    "#                          'alyme@codingtemple.com',\n",
    "#                          'aferkovich@codingtemple.com',\n",
    "#                          'cbrookhouse@codingtemple.com',\n",
    "#                          'mselk@codingtemple.com',\n",
    "#                          'amacneil@codingtemple.com',\n",
    "#                          'jplants@codingtemple.com',\n",
    "#                          'devora@codingtemple.com',\n",
    "#                          'bcustis@codingtemple.com',\n",
    "#                          'labbot@codingtemple.com',\n",
    "#                          'civery@codingtemple.com',\n",
    "#                          'jfavieri@codingtemple.com',\n",
    "#                          'anickless@codingtemple.com'],\n",
    "#         'name': 'Spain',\n",
    "#         'startDate': '2017-05-03'},\n",
    "#     {   'attendeeCount': 3,\n",
    "#         'attendees': [   'ltoepperwein@codingtemple.com',\n",
    "#                          'olavine@codingtemple.com',\n",
    "#                          'ksinitiere@codingtemple.com'],\n",
    "#         'name': 'Mexico',\n",
    "#         'startDate': '2017-05-03'},\n",
    "#     {   'attendeeCount': 3,\n",
    "#         'attendees': [   'abending@codingtemple.com',\n",
    "#                          'agewant@codingtemple.com',\n",
    "#                          'mboyarski@codingtemple.com'],\n",
    "#         'name': 'Canada',\n",
    "#         'startDate': '2017-07-02'},\n",
    "#     {   'attendeeCount': None,\n",
    "#         'attendees': [],\n",
    "#         'name': 'Singapore',\n",
    "#         'startDate': '2017-06-15'},\n",
    "#     {   'attendeeCount': None,\n",
    "#         'attendees': [],\n",
    "#         'name': 'Japan',\n",
    "#         'startDate': '2017-06-27'},\n",
    "#     {   'attendeeCount': 16,\n",
    "#         'attendees': [   'arosentrater@codingtemple.com',\n",
    "#                          'jgoettsche@codingtemple.com',\n",
    "#                          'nbehal@codingtemple.com',\n",
    "#                          'bkilcher@codingtemple.com',\n",
    "#                          'ostutler@codingtemple.com',\n",
    "#                          'emaohu@codingtemple.com',\n",
    "#                          'jbattistoni@codingtemple.com',\n",
    "#                          'ccoryea@codingtemple.com',\n",
    "#                          'gcintron@codingtemple.com',\n",
    "#                          'scorlett@codingtemple.com',\n",
    "#                          'dallocca@codingtemple.com',\n",
    "#                          'dneedler@codingtemple.com',\n",
    "#                          'lsachez@codingtemple.com',\n",
    "#                          'sszabo@codingtemple.com',\n",
    "#                          'smaleck@codingtemple.com',\n",
    "#                          'jholtrop@codingtemple.com'],\n",
    "#         'name': 'United Kingdom',\n",
    "#         'startDate': '2017-06-05'},\n",
    "#     {   'attendeeCount': 5,\n",
    "#         'attendees': [   'bdurke@codingtemple.com',\n",
    "#                          'jtopp@codingtemple.com',\n",
    "#                          'tpinela@codingtemple.com',\n",
    "#                          'jdefore@codingtemple.com',\n",
    "#                          'jmacareno@codingtemple.com'],\n",
    "#         'name': 'France',\n",
    "#         'startDate': '2017-06-18'}]"
   ]
  },
  {
   "cell_type": "markdown",
   "metadata": {},
   "source": [
    "For each partner, you need to categorize them according to the country in which they must attend the meeting. Find a way to determine which availability dates work best for everyone in EACH country. If a date doesn't work for a specific partner, they simply will not be able to attend the meeting. \n",
    "\n",
    "<strong>The kicker</strong>: this meeting will last a total of two days. Because of this, you must find a RANGE of two dates that work best for everyone. For whichever two days work the best, only display the first date everyone can start.\n",
    "\n",
    "<strong>When you've finished, send a POST request to the same API (Google how to do this!!!). If you get a server response code of 200, you were successful in building your solution. Otherwise, hit the drawing board and try again!</strong>"
   ]
  },
  {
   "cell_type": "code",
   "execution_count": 15,
   "metadata": {
    "scrolled": false
   },
   "outputs": [
    {
     "ename": "SyntaxError",
     "evalue": "invalid syntax (<ipython-input-15-707d26802364>, line 34)",
     "output_type": "error",
     "traceback": [
      "\u001b[0;36m  File \u001b[0;32m\"<ipython-input-15-707d26802364>\"\u001b[0;36m, line \u001b[0;32m34\u001b[0m\n\u001b[0;31m    allOfTheDates = for dates in data['partners'][0]['availableDates']:\u001b[0m\n\u001b[0m                    ^\u001b[0m\n\u001b[0;31mSyntaxError\u001b[0m\u001b[0;31m:\u001b[0m invalid syntax\n"
     ]
    }
   ],
   "source": [
    "#We should separate by email, since they are each individual, while other things like country and even first or last name can be repeated.\n",
    "#we will need to make A class where email is the identifier\n",
    "#first and last names, email addresses, country locations and dates of availability\n",
    "#they need to attend meetings in their own countries. Find the date where the most people from that country can attend\n",
    "#if theres 100 people in the US, and the best date is 90 people being able to make it, then 10 will miss it.\n",
    "#the best two days will work.the 1st and 2nd is a completely different data set than the 2nd and 3rd\n",
    "#users are separated by email as that is unique, so for date in in available dates: I should add those to a dictionary\n",
    "#i am thinking a new dictionary gets appended with each date. The key is the date and the value is += 1 when someone's date fits there\n",
    "#so the date with the most votes wont necessarily be the best option since its two days.\n",
    "#the question is how to loop through that dictionary and have two dates connected to each other as a variable to \n",
    "#be analyzed.  range(start, stop, step) range(0, -1, 2) The dates are the immutable key. the value is how many people can go\n",
    "\n",
    "import requests\n",
    "import json\n",
    "\n",
    "#using the specific key i want to jump in requests.get would be more efficient since that's the only part of the api I need. However, realistically,\n",
    "#someone would want to know who, so it can come separate as its own function.\n",
    "payload = {'partners': [], 'availableDates': [], }\n",
    "response = requests.get(\"https://ct-mock-tech-assessment.herokuapp.com/\").json()\n",
    "\n",
    "def jprint(obj):\n",
    "    text = json.dumps(obj, sort_keys=True, indent=4)\n",
    "    print(text)\n",
    "\n",
    "jprint(response)\n",
    "data = response.json()\n",
    "\n",
    "#I need to make a function that extracts all of the \"availableDates\" and puts them into a list called potentialdates\n",
    "#within the dictionary, we have a key of partners holding a list of dictionaries. the key we want is availableDate\n",
    "#the directions don't say we need to have people divided, only the best dates, so forget the email thing until after as a bonus\n",
    "\n",
    "def findpotentialdates(data):\n",
    "    potentialDates = []\n",
    "    \n",
    "    #dig into api to get availableDates from each partners' dict/list\n",
    "    allOfTheDates = for dates in data['partners'][0]['availableDates']:\n",
    "        \n",
    "    \n",
    "    \n",
    "def addingUpPotentialDates(potentialDates):    \n",
    "    #creating a dictionary to store each date as a key, with its value pair being how many times that date shows up in the list\n",
    "    dates = {}\n",
    "    \n",
    "    #for every date in the list:\n",
    "    for availabilitydate in potentialDates:\n",
    "        \n",
    "        #if that date isn't in the dictionary yet, specifically the keys side\n",
    "        if element not in dates.keys():\n",
    "            #then that date is added in as having one instance of it\n",
    "            dates[element] = 1\n",
    "        else:\n",
    "            \n",
    "            #if that number is in there already, add one\n",
    "            dates[element] += 1\n",
    "                \n",
    "    return dates\n",
    "\n",
    "def findBestTwoDates(dates):\n",
    "    #in dates dictionary i will use range(0, -1, 2) add the values of the two indeces together and put them in a tuple\n",
    "    #then i will use max(tuple) to find the the combo that has the highest number, or the highest amount of attendees.\n",
    "    #then i will return the two keys, or two dates associated with that max number, either as the end of the funciton or in requests.post\n",
    "    \n",
    "    \n",
    "finished = requests.post(\"https://ct-mock-tech-assessment.herokuapp.com/\", best_dates ={'key': 'value'} \n",
    "\n",
    "#I bet this whole operation could be done in one line by getting the availableDates in the Api and using a lambda function with a sorting algorithm. Someday.\n"
   ]
  },
  {
   "cell_type": "code",
   "execution_count": null,
   "metadata": {},
   "outputs": [],
   "source": []
  }
 ],
 "metadata": {
  "kernelspec": {
   "display_name": "Python 3",
   "language": "python",
   "name": "python3"
  },
  "language_info": {
   "codemirror_mode": {
    "name": "ipython",
    "version": 3
   },
   "file_extension": ".py",
   "mimetype": "text/x-python",
   "name": "python",
   "nbconvert_exporter": "python",
   "pygments_lexer": "ipython3",
   "version": "3.8.5"
  }
 },
 "nbformat": 4,
 "nbformat_minor": 4
}
